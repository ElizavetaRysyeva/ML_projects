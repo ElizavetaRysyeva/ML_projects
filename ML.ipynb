{
 "cells": [
  {
   "cell_type": "code",
   "execution_count": 1,
   "id": "3d915319",
   "metadata": {},
   "outputs": [],
   "source": [
    "import pandas as pd\n",
    "import warnings\n",
    "warnings.filterwarnings(\"ignore\")\n",
    "import matplotlib.pyplot as plt\n",
    "import seaborn as sns\n",
    "import numpy as np\n",
    "\n",
    "from sklearn.metrics import mean_absolute_error, mean_squared_error, median_absolute_error, r2_score\n",
    "from sklearn.preprocessing import MinMaxScaler\n",
    "from sklearn.neighbors import KNeighborsRegressor, KNeighborsClassifier\n",
    "from sklearn.model_selection import train_test_split, GridSearchCV\n",
    "from sklearn.impute import SimpleImputer, MissingIndicator\n",
    "from sklearn.preprocessing import LabelEncoder, OneHotEncoder, MinMaxScaler, StandardScaler, Normalizer\n",
    "from sklearn.model_selection import StratifiedKFold\n",
    "from sklearn.model_selection import cross_val_score\n"
   ]
  },
  {
   "cell_type": "code",
   "execution_count": 2,
   "id": "f6c6839b",
   "metadata": {},
   "outputs": [],
   "source": [
    "df = pd.read_csv('Admission_Predict.csv')"
   ]
  },
  {
   "cell_type": "code",
   "execution_count": 3,
   "id": "48a8944a",
   "metadata": {},
   "outputs": [
    {
     "data": {
      "text/html": [
       "<div>\n",
       "<style scoped>\n",
       "    .dataframe tbody tr th:only-of-type {\n",
       "        vertical-align: middle;\n",
       "    }\n",
       "\n",
       "    .dataframe tbody tr th {\n",
       "        vertical-align: top;\n",
       "    }\n",
       "\n",
       "    .dataframe thead th {\n",
       "        text-align: right;\n",
       "    }\n",
       "</style>\n",
       "<table border=\"1\" class=\"dataframe\">\n",
       "  <thead>\n",
       "    <tr style=\"text-align: right;\">\n",
       "      <th></th>\n",
       "      <th>Serial No.</th>\n",
       "      <th>GRE Score</th>\n",
       "      <th>TOEFL Score</th>\n",
       "      <th>University Rating</th>\n",
       "      <th>SOP</th>\n",
       "      <th>LOR</th>\n",
       "      <th>CGPA</th>\n",
       "      <th>Research</th>\n",
       "      <th>Chance of Admit</th>\n",
       "    </tr>\n",
       "  </thead>\n",
       "  <tbody>\n",
       "    <tr>\n",
       "      <th>0</th>\n",
       "      <td>1</td>\n",
       "      <td>337</td>\n",
       "      <td>118</td>\n",
       "      <td>4</td>\n",
       "      <td>4.5</td>\n",
       "      <td>4.5</td>\n",
       "      <td>9.65</td>\n",
       "      <td>1</td>\n",
       "      <td>0.92</td>\n",
       "    </tr>\n",
       "    <tr>\n",
       "      <th>1</th>\n",
       "      <td>2</td>\n",
       "      <td>324</td>\n",
       "      <td>107</td>\n",
       "      <td>4</td>\n",
       "      <td>4.0</td>\n",
       "      <td>4.5</td>\n",
       "      <td>8.87</td>\n",
       "      <td>1</td>\n",
       "      <td>0.76</td>\n",
       "    </tr>\n",
       "    <tr>\n",
       "      <th>2</th>\n",
       "      <td>3</td>\n",
       "      <td>316</td>\n",
       "      <td>104</td>\n",
       "      <td>3</td>\n",
       "      <td>3.0</td>\n",
       "      <td>3.5</td>\n",
       "      <td>8.00</td>\n",
       "      <td>1</td>\n",
       "      <td>0.72</td>\n",
       "    </tr>\n",
       "    <tr>\n",
       "      <th>3</th>\n",
       "      <td>4</td>\n",
       "      <td>322</td>\n",
       "      <td>110</td>\n",
       "      <td>3</td>\n",
       "      <td>3.5</td>\n",
       "      <td>2.5</td>\n",
       "      <td>8.67</td>\n",
       "      <td>1</td>\n",
       "      <td>0.80</td>\n",
       "    </tr>\n",
       "    <tr>\n",
       "      <th>4</th>\n",
       "      <td>5</td>\n",
       "      <td>314</td>\n",
       "      <td>103</td>\n",
       "      <td>2</td>\n",
       "      <td>2.0</td>\n",
       "      <td>3.0</td>\n",
       "      <td>8.21</td>\n",
       "      <td>0</td>\n",
       "      <td>0.65</td>\n",
       "    </tr>\n",
       "  </tbody>\n",
       "</table>\n",
       "</div>"
      ],
      "text/plain": [
       "   Serial No.  GRE Score  TOEFL Score  University Rating  SOP  LOR   CGPA  \\\n",
       "0           1        337          118                  4  4.5   4.5  9.65   \n",
       "1           2        324          107                  4  4.0   4.5  8.87   \n",
       "2           3        316          104                  3  3.0   3.5  8.00   \n",
       "3           4        322          110                  3  3.5   2.5  8.67   \n",
       "4           5        314          103                  2  2.0   3.0  8.21   \n",
       "\n",
       "   Research  Chance of Admit   \n",
       "0         1              0.92  \n",
       "1         1              0.76  \n",
       "2         1              0.72  \n",
       "3         1              0.80  \n",
       "4         0              0.65  "
      ]
     },
     "execution_count": 3,
     "metadata": {},
     "output_type": "execute_result"
    }
   ],
   "source": [
    "df.head()"
   ]
  },
  {
   "cell_type": "code",
   "execution_count": 4,
   "id": "cdd5fd88",
   "metadata": {},
   "outputs": [
    {
     "name": "stdout",
     "output_type": "stream",
     "text": [
      "<class 'pandas.core.frame.DataFrame'>\n",
      "RangeIndex: 400 entries, 0 to 399\n",
      "Data columns (total 9 columns):\n",
      " #   Column             Non-Null Count  Dtype  \n",
      "---  ------             --------------  -----  \n",
      " 0   Serial No.         400 non-null    int64  \n",
      " 1   GRE Score          400 non-null    int64  \n",
      " 2   TOEFL Score        400 non-null    int64  \n",
      " 3   University Rating  400 non-null    int64  \n",
      " 4   SOP                400 non-null    float64\n",
      " 5   LOR                400 non-null    float64\n",
      " 6   CGPA               400 non-null    float64\n",
      " 7   Research           400 non-null    int64  \n",
      " 8   Chance of Admit    400 non-null    float64\n",
      "dtypes: float64(4), int64(5)\n",
      "memory usage: 28.2 KB\n"
     ]
    }
   ],
   "source": [
    "df.info()"
   ]
  },
  {
   "cell_type": "code",
   "execution_count": 5,
   "id": "fab71877",
   "metadata": {},
   "outputs": [
    {
     "data": {
      "text/plain": [
       "GRE Score            0\n",
       "TOEFL Score          0\n",
       "University Rating    0\n",
       "SOP                  0\n",
       "LOR                  0\n",
       "CGPA                 0\n",
       "Research             0\n",
       "Chance of Admit      0\n",
       "dtype: int64"
      ]
     },
     "execution_count": 5,
     "metadata": {},
     "output_type": "execute_result"
    }
   ],
   "source": [
    "df = df.drop(['Serial No.'], axis=1)\n",
    "df.isnull().sum()"
   ]
  },
  {
   "cell_type": "code",
   "execution_count": 6,
   "id": "5e0a9624",
   "metadata": {},
   "outputs": [
    {
     "data": {
      "image/png": "[encoded data removed]",
      "text/plain": [
       "<Figure size 640x480 with 2 Axes>"
      ]
     },
     "metadata": {},
     "output_type": "display_data"
    }
   ],
   "source": [
    "corr = df.corr()\n",
    "sns.heatmap(corr, linewidths=.5, annot=True, fmt=\".2f\")\n",
    "plt.show()"
   ]
  },
  {
   "cell_type": "markdown",
   "id": "eac390e6",
   "metadata": {},
   "source": [
    "1) С целевым признаком \"Chance of Admit\" наиболее коррелируют признаки \"CGPA\", \"GRE Score\" , \"TOEFL Score\". При построении модели машинного обучения перечисленные признаки будут наиболее информативными.\n",
    "\n",
    "2) Стоит отметить корреляцию признаков \"SOP\" и \"University Rating\".\n",
    "\n",
    "3) Можно построить модель машинного обучения на основе признаков \"CGPA\", \"GRE Score\", \"TOEFL Score\", \"LOR\", \"Research\". Первые 3 признака наиболее сильно повлияют на результат ввиду их высокой корреляции. Обученные модели позволят бакалаврам оценить свои возможности для поступления на магистратуру."
   ]
  },
  {
   "cell_type": "markdown",
   "id": "36b8f8d6",
   "metadata": {},
   "source": [
    "## Разделение данных\n",
    "Разделим данные на целевой столбец и признаки\n",
    "При построении предсказательных моделей исходные данные обычно разбиваются на обучающую (\"training set\") и контрольную (\"test set\") выборки. \n",
    "**Обучающая выборка** используется для построения математических отношений между некоторой переменной-откликом и предикторами, тогда как **контрольная (= \"проверочная\")** выборка служит для получения оценки прогнозных свойств модели на новых данных, т.е. данных, которые не были использованы для обучения модели.\n"
   ]
  },
  {
   "cell_type": "code",
   "execution_count": 7,
   "id": "99607fe2",
   "metadata": {},
   "outputs": [],
   "source": [
    "X = df.drop(['Chance of Admit '], axis=1) #Наименования признаков\n",
    "y = df['Chance of Admit '] # Значения признаков\n"
   ]
  },
  {
   "cell_type": "code",
   "execution_count": 8,
   "id": "a22f9d33",
   "metadata": {},
   "outputs": [],
   "source": [
    "# кодируем категориальные данные из строк в числа\n",
    "le = LabelEncoder()\n",
    "y = le.fit_transform(y)\n"
   ]
  },
  {
   "cell_type": "code",
   "execution_count": 9,
   "id": "c3e7a5ce",
   "metadata": {},
   "outputs": [],
   "source": [
    "X_train, X_test, y_train, y_test = train_test_split(X,y,test_size = 0.20, shuffle=False, random_state= 45)"
   ]
  },
  {
   "cell_type": "code",
   "execution_count": 10,
   "id": "7979af77",
   "metadata": {},
   "outputs": [
    {
     "data": {
      "text/plain": [
       "((320, 7), (320,))"
      ]
     },
     "execution_count": 10,
     "metadata": {},
     "output_type": "execute_result"
    }
   ],
   "source": [
    "# Размер обучающей выборки\n",
    "X_train.shape, y_train.shape"
   ]
  },
  {
   "cell_type": "code",
   "execution_count": 11,
   "id": "5521c078",
   "metadata": {},
   "outputs": [
    {
     "data": {
      "text/plain": [
       "((80, 7), (80,))"
      ]
     },
     "execution_count": 11,
     "metadata": {},
     "output_type": "execute_result"
    }
   ],
   "source": [
    "# Размер тестовой выборки\n",
    "X_test.shape, y_test.shape"
   ]
  },
  {
   "cell_type": "markdown",
   "id": "cd133922",
   "metadata": {},
   "source": [
    "### Обучите модель ближайших соседей для произвольно заданного гиперпараметра K. Оцените качество модели с помощью трех подходящих для задачи метрик."
   ]
  },
  {
   "cell_type": "code",
   "execution_count": 12,
   "id": "17607303",
   "metadata": {},
   "outputs": [
    {
     "name": "stdout",
     "output_type": "stream",
     "text": [
      "Accuracy: 0.10 (+/- 0.05)\n"
     ]
    }
   ],
   "source": [
    "# Задаем значение K\n",
    "K = 100\n",
    "\n",
    "# Создаем объект классификатора\n",
    "knn = KNeighborsClassifier(n_neighbors=K)\n",
    "\n",
    "# Обучаем модель на тренировочных данных\n",
    "knn.fit(X_train, y_train)\n",
    "\n",
    "# Предсказываем метки классов для тестовых данных\n",
    "y_pred = knn.predict(X_test)\n",
    "\n",
    "# Вычисляем точность модели с помощью 5-кратной кросс-валидации\n",
    "scores = cross_val_score(knn, X, y, cv=5)\n",
    "\n",
    "# Выводим среднее значение и стандартное отклонение точности\n",
    "print(\"Accuracy: %0.2f (+/- %0.2f)\" % (scores.mean(), scores.std() * 2))\n"
   ]
  },
  {
   "cell_type": "code",
   "execution_count": 13,
   "id": "70cf8635",
   "metadata": {},
   "outputs": [],
   "source": [
    "def test_model(model):\n",
    "    print(\"mean_absolute_error:\",\n",
    "          mean_absolute_error(y_test, model.predict(X_test)))\n",
    "    print(\"mean_squared_error:\",\n",
    "          mean_squared_error(y_test, model.predict(X_test)))\n",
    "    print(\"median_absolute_error:\",\n",
    "          median_absolute_error(y_test, model.predict(X_test)))\n",
    "    print(\"r2_score:\",\n",
    "          r2_score(y_test, model.predict(X_test)))"
   ]
  },
  {
   "cell_type": "code",
   "execution_count": 14,
   "id": "6e30ce58",
   "metadata": {},
   "outputs": [
    {
     "name": "stdout",
     "output_type": "stream",
     "text": [
      "mean_absolute_error: 6.175\n",
      "mean_squared_error: 80.65\n",
      "median_absolute_error: 3.5\n",
      "r2_score: 0.6251016850668216\n"
     ]
    }
   ],
   "source": [
    "test_model(knn)"
   ]
  },
  {
   "cell_type": "markdown",
   "id": "b66879df",
   "metadata": {},
   "source": [
    "Mean_absolute_error (MAE) - средняя абсолютная ошибка, которая показывает насколько сильно отличаются фактические значения от предсказанных. Значение MAE равно 6.175, что означает, что средняя ошибка предсказания составляет 6.175.\n",
    "\n",
    "Mean_squared_error (MSE) - средняя квадратичная ошибка, которая выражает среднюю величину квадрата отклонения предсказанных значений от фактических. Значение MSE равно 80.65, что говорит о том, что среднеквадратичная ошибка составляет 80.65.\n",
    "\n",
    "Median_absolute_error - медианная абсолютная ошибка, которая показывает, насколько сильно медианные значения отличаются от предсказанных. Значение median_absolute_error равно 3.5.\n",
    "\n",
    "R2_score - коэффициент детерминации, который измеряет, насколько хорошо модель соответствует данным. Значение R2_score равно 0.6251016850668216, что говорит о том, что модель объясняет 62.51% дисперсии данных.\n",
    "\n",
    "Из полученных значений можно сделать вывод о том, что модель не является идеальной и имеет ошибки в предсказании. Однако, коэффициент детерминации показывает, что модель в некоторой степени соответствует данным. При необходимости можно произвести дополнительную настройку модели для улучшения ее качества."
   ]
  },
  {
   "cell_type": "markdown",
   "id": "7a59b755",
   "metadata": {},
   "source": [
    "### Постройте модель и оцените качество модели с использованием кросс-валидации. Проведите эксперименты с тремя различными стратегиями кросс-валидации."
   ]
  },
  {
   "cell_type": "code",
   "execution_count": 15,
   "id": "e362760f",
   "metadata": {},
   "outputs": [],
   "source": [
    "from sklearn.model_selection import cross_val_score, KFold, StratifiedKFold, LeaveOneOut\n",
    "\n",
    "# Создаем объект KFold с n_splits=5\n",
    "kf = KFold(n_splits=5)\n",
    "\n",
    "# Создаем объект StratifiedKFold с n_splits=5\n",
    "skf = StratifiedKFold(n_splits=5)\n",
    "\n",
    "# Создаем объект LeaveOneOut\n",
    "loo = LeaveOneOut()\n",
    "\n",
    "# Вычисляем точность модели с помощью KFold кросс-валидации\n",
    "scores_kf = cross_val_score(knn, X, y, cv=kf)\n",
    "\n",
    "# Вычисляем точность модели с помощью StratifiedKFold кросс-валидации\n",
    "scores_skf = cross_val_score(knn, X, y, cv=skf)\n",
    "\n",
    "# Вычисляем точность модели с помощью LeaveOneOut кросс-валидации\n",
    "scores_loo = cross_val_score(knn, X, y, cv=loo)\n"
   ]
  },
  {
   "cell_type": "code",
   "execution_count": 16,
   "id": "44936da6",
   "metadata": {},
   "outputs": [
    {
     "name": "stdout",
     "output_type": "stream",
     "text": [
      "KFold: 0.0625\n",
      "StratifiedKFold: 0.0975\n",
      "LeaveOneOut: 0.07\n"
     ]
    }
   ],
   "source": [
    "print(\"KFold:\", scores_kf.mean())\n",
    "print(\"StratifiedKFold:\", scores_skf.mean())\n",
    "print(\"LeaveOneOut:\", scores_loo.mean())\n"
   ]
  },
  {
   "cell_type": "markdown",
   "id": "a37df157",
   "metadata": {},
   "source": [
    "Каждый метод кросс-валидации имеет свой результат. Наиболее точным оказался метод StratifiedKFold с показателем 0.0975, что может свидетельствовать о наличии дисбаланса классов в данных. LeaveOneOut показал близкий результат к StratifiedKFold, но может быть менее эффективен при большом объеме данных из-за вычислительной сложности. KFold оказался наименее точным методом, что может быть связано с тем, что он не учитывает распределение классов в данных."
   ]
  },
  {
   "cell_type": "markdown",
   "id": "d2a8bd23",
   "metadata": {},
   "source": [
    "### Произведите подбор гиперпараметра K с использованием GridSearchCV и кросс-валидации."
   ]
  },
  {
   "cell_type": "code",
   "execution_count": 17,
   "id": "87a2344e",
   "metadata": {},
   "outputs": [
    {
     "name": "stdout",
     "output_type": "stream",
     "text": [
      "лучшие значение гиперпараметра K:  {'n_neighbors': 11}\n",
      "оценка качества модели:  0.075\n"
     ]
    }
   ],
   "source": [
    "from sklearn.model_selection import GridSearchCV\n",
    "from sklearn.neighbors import KNeighborsClassifier\n",
    "\n",
    "# создаем модель KNN\n",
    "knn = KNeighborsClassifier()\n",
    "\n",
    "# задаем сетку параметров для перебора\n",
    "param_grid = {'n_neighbors': [3, 5, 7, 9, 11]}\n",
    "\n",
    "# создаем объект GridSearchCV с кросс-валидацией на 5 фолдах\n",
    "grid_search = GridSearchCV(knn, param_grid, cv=5)\n",
    "\n",
    "# обучаем модель на данных\n",
    "grid_search.fit(X_train, y_train)\n",
    "\n",
    "# выводим лучшее значение гиперпараметра K и соответствующую ему оценку качества модели\n",
    "print(\"лучшие значение гиперпараметра K: \", grid_search.best_params_)\n",
    "print(\"оценка качества модели: \", grid_search.best_score_)\n"
   ]
  },
  {
   "cell_type": "markdown",
   "id": "e206909b",
   "metadata": {},
   "source": [
    "### Повторите пункт 4 для найденного оптимального значения гиперпараметра K. Сравните качество полученной модели с качеством модели, полученной в пункте 4."
   ]
  },
  {
   "cell_type": "code",
   "execution_count": 18,
   "id": "0f62ee55",
   "metadata": {},
   "outputs": [
    {
     "name": "stdout",
     "output_type": "stream",
     "text": [
      "Accuracy: 0.07 (+/- 0.03)\n"
     ]
    }
   ],
   "source": [
    "# Задаем значение K\n",
    "K = 11\n",
    "\n",
    "# Создаем объект классификатора\n",
    "knn = KNeighborsClassifier(n_neighbors=K)\n",
    "\n",
    "# Обучаем модель на тренировочных данных\n",
    "knn.fit(X_train, y_train)\n",
    "\n",
    "# Предсказываем метки классов для тестовых данных\n",
    "y_pred = knn.predict(X_test)\n",
    "\n",
    "# Вычисляем точность модели с помощью 5-кратной кросс-валидации\n",
    "scores = cross_val_score(knn, X, y, cv=5)\n",
    "\n",
    "# Выводим среднее значение и стандартное отклонение точности\n",
    "print(\"Accuracy: %0.2f (+/- %0.2f)\" % (scores.mean(), scores.std() * 2))\n"
   ]
  },
  {
   "cell_type": "code",
   "execution_count": 19,
   "id": "eb96d0e9",
   "metadata": {},
   "outputs": [
    {
     "name": "stdout",
     "output_type": "stream",
     "text": [
      "mean_absolute_error: 7.2375\n",
      "mean_squared_error: 97.4625\n",
      "median_absolute_error: 5.5\n",
      "r2_score: 0.5469494479953516\n"
     ]
    }
   ],
   "source": [
    "test_model(knn)"
   ]
  },
  {
   "cell_type": "markdown",
   "id": "86532674",
   "metadata": {},
   "source": [
    "Вывод говорит о том, что модель имеет среднюю абсолютную ошибку (mean_absolute_error) в 7.24 единицы и среднеквадратичную ошибку (mean_squared_error) в 97.46 единицы. \n",
    "\n",
    "Медианная абсолютная ошибка (median_absolute_error) составляет 5.5 единицы. \n",
    "\n",
    "Коэффициент детерминации (r2_score) равен 0.55, что говорит о том, что модель объясняет примерно половину изменчивости данных. \n",
    "\n"
   ]
  },
  {
   "cell_type": "markdown",
   "id": "4ffe912e",
   "metadata": {},
   "source": [
    "### Постройте кривые обучения и валидации."
   ]
  },
  {
   "cell_type": "code",
   "execution_count": 20,
   "id": "84f4b5f7",
   "metadata": {},
   "outputs": [
    {
     "data": {
      "image/png": "[encoded data removed]",
      "text/plain": [
       "<Figure size 640x480 with 1 Axes>"
      ]
     },
     "metadata": {},
     "output_type": "display_data"
    }
   ],
   "source": [
    "from sklearn.model_selection import learning_curve\n",
    "\n",
    "train_sizes, train_scores, test_scores = learning_curve(knn, X, y, cv=5)\n",
    "\n",
    "train_mean = np.mean(train_scores, axis=1)\n",
    "train_std = np.std(train_scores, axis=1)\n",
    "test_mean = np.mean(test_scores, axis=1)\n",
    "test_std = np.std(test_scores, axis=1)\n",
    "\n",
    "plt.plot(train_sizes, train_mean, label='Training score')\n",
    "plt.plot(train_sizes, test_mean, label='Cross-validation score')\n",
    "\n",
    "plt.fill_between(train_sizes, train_mean - train_std,\n",
    "                 train_mean + train_std, alpha=0.1)\n",
    "plt.fill_between(train_sizes, test_mean - test_std,\n",
    "                 test_mean + test_std, alpha=0.1)\n",
    "\n",
    "plt.legend()\n",
    "plt.show()\n"
   ]
  },
  {
   "cell_type": "markdown",
   "id": "de5b80b6",
   "metadata": {},
   "source": [
    "Интерпретация кривых обучения и валидации:\n",
    "\n",
    "Кривые обучения и валидации сходятся на достаточно высоком уровне, это говорит о том, что модель может быть улучшена путем использования большего количества данных.\n",
    "\n"
   ]
  },
  {
   "cell_type": "markdown",
   "id": "d4ace495",
   "metadata": {},
   "source": [
    "### Обучите: \n",
    "    1) одну из линейных моделей,\n",
    "    2) SVM \n",
    "    3) дерево решений. \n",
    "Оцените качество моделей с помощью трех подходящих для задачи метрик. Сравните качество полученных моделей."
   ]
  },
  {
   "cell_type": "code",
   "execution_count": 21,
   "id": "fa5fdc6e",
   "metadata": {},
   "outputs": [],
   "source": [
    "from sklearn.linear_model import LinearRegression\n",
    "from sklearn.metrics import mean_squared_error,accuracy_score\n",
    "from sklearn.svm import SVC, NuSVC, LinearSVC\n",
    "from sklearn.tree import DecisionTreeClassifier, DecisionTreeRegressor, export_graphviz\n",
    "from sklearn.model_selection import GridSearchCV\n",
    "from sklearn import tree\n",
    "from IPython.core.display import HTML\n",
    "from sklearn.tree import export_text\n",
    "from operator import itemgetter\n"
   ]
  },
  {
   "cell_type": "markdown",
   "id": "973a3f9f",
   "metadata": {},
   "source": [
    "1) Линейная модель: \n",
    "Допустим, у нас есть задача регрессии, и мы хотим обучить линейную модель на данных. Мы можем использовать, например, Ridge регрессию. Одним из гиперпараметров этой модели является alpha - коэффициент регуляризации. Мы можем использовать GridSearchCV для подбора оптимального значения alpha с помощью кросс-валидации.\n"
   ]
  },
  {
   "cell_type": "code",
   "execution_count": 22,
   "id": "1b5bc615",
   "metadata": {},
   "outputs": [
    {
     "data": {
      "text/plain": [
       "0.8182533188365158"
      ]
     },
     "execution_count": 22,
     "metadata": {},
     "output_type": "execute_result"
    }
   ],
   "source": [
    "LinearRegression_model=LinearRegression()\n",
    "LinearRegression_model.fit(X_train,y_train)\n",
    "accuracy_LinearRegression=LinearRegression_model.score(X_test,y_test)\n",
    "accuracy_LinearRegression\n"
   ]
  },
  {
   "cell_type": "markdown",
   "id": "07cc60ef",
   "metadata": {},
   "source": [
    "2) SVC:\n",
    "Допустим, у нас есть задача классификации и мы хотим обучить SVM на данных. Мы можем использовать, например, SVC. Одним из гиперпараметров этой модели является C - параметр регуляризации. Мы можем использовать GridSearchCV для подбора оптимального значения C с помощью кросс-валидации.\n",
    "\n"
   ]
  },
  {
   "cell_type": "code",
   "execution_count": 23,
   "id": "753944e8",
   "metadata": {},
   "outputs": [
    {
     "data": {
      "text/plain": [
       "(0.09375, 0.05)"
      ]
     },
     "execution_count": 23,
     "metadata": {},
     "output_type": "execute_result"
    }
   ],
   "source": [
    "svc = SVC(kernel='poly', degree=5)\n",
    "svc.fit(X_train, y_train)\n",
    "y_pred_test_svc = svc.predict(X_test)\n",
    "y_pred_train_svc = svc.predict(X_train)\n",
    "accuracy_score(y_train, y_pred_train_svc), accuracy_score(y_test, y_pred_test_svc)"
   ]
  },
  {
   "cell_type": "markdown",
   "id": "9944ecee",
   "metadata": {},
   "source": [
    "3) Дерево решений:\n",
    "Допустим, у нас есть задача классификации и мы хотим обучить дерево решений на данных. Одним из гиперпараметров этой модели является максимальная глубина дерева. Мы можем использовать GridSearchCV для подбора оптимальной глубины дерева с помощью кросс-валидации."
   ]
  },
  {
   "cell_type": "code",
   "execution_count": 24,
   "id": "aa361e35",
   "metadata": {},
   "outputs": [
    {
     "data": {
      "text/plain": [
       "DecisionTreeRegressor(max_depth=3)"
      ]
     },
     "execution_count": 24,
     "metadata": {},
     "output_type": "execute_result"
    }
   ],
   "source": [
    "dt_none = DecisionTreeRegressor(max_depth=3)\n",
    "dt_none.fit(X_train, y_train)"
   ]
  },
  {
   "cell_type": "code",
   "execution_count": 25,
   "id": "28d30e11",
   "metadata": {},
   "outputs": [
    {
     "data": {
      "text/plain": [
       "[Text(0.5, 0.875, 'X[5] <= 8.845\\nsquared_error = 194.193\\nsamples = 320\\nvalue = 34.981'),\n",
       " Text(0.25, 0.625, 'X[5] <= 8.035\\nsquared_error = 104.913\\nsamples = 202\\nvalue = 27.089'),\n",
       " Text(0.125, 0.375, 'X[0] <= 307.5\\nsquared_error = 86.232\\nsamples = 54\\nvalue = 17.093'),\n",
       " Text(0.0625, 0.125, 'squared_error = 59.904\\nsamples = 34\\nvalue = 13.088'),\n",
       " Text(0.1875, 0.125, 'squared_error = 57.39\\nsamples = 20\\nvalue = 23.9'),\n",
       " Text(0.375, 0.375, 'X[5] <= 8.63\\nsquared_error = 61.964\\nsamples = 148\\nvalue = 30.736'),\n",
       " Text(0.3125, 0.125, 'squared_error = 58.353\\nsamples = 101\\nvalue = 28.624'),\n",
       " Text(0.4375, 0.125, 'squared_error = 39.519\\nsamples = 47\\nvalue = 35.277'),\n",
       " Text(0.75, 0.625, 'X[5] <= 9.225\\nsquared_error = 57.877\\nsamples = 118\\nvalue = 48.492'),\n",
       " Text(0.625, 0.375, 'X[3] <= 3.75\\nsquared_error = 45.272\\nsamples = 66\\nvalue = 43.697'),\n",
       " Text(0.5625, 0.125, 'squared_error = 59.391\\nsamples = 19\\nvalue = 38.368'),\n",
       " Text(0.6875, 0.125, 'squared_error = 23.446\\nsamples = 47\\nvalue = 45.851'),\n",
       " Text(0.875, 0.375, 'X[5] <= 9.47\\nsquared_error = 7.667\\nsamples = 52\\nvalue = 54.577'),\n",
       " Text(0.8125, 0.125, 'squared_error = 4.999\\nsamples = 29\\nvalue = 53.034'),\n",
       " Text(0.9375, 0.125, 'squared_error = 4.25\\nsamples = 23\\nvalue = 56.522')]"
      ]
     },
     "execution_count": 25,
     "metadata": {},
     "output_type": "execute_result"
    },
    {
     "data": {
      "image/png": "[encoded data removed]",
      "text/plain": [
       "<Figure size 640x480 with 1 Axes>"
      ]
     },
     "metadata": {},
     "output_type": "display_data"
    }
   ],
   "source": [
    "tree.plot_tree(dt_none)"
   ]
  },
  {
   "cell_type": "code",
   "execution_count": 26,
   "id": "b7eb1ea9",
   "metadata": {},
   "outputs": [
    {
     "data": {
      "text/plain": [
       "DecisionTreeClassifier(random_state=1)"
      ]
     },
     "execution_count": 26,
     "metadata": {},
     "output_type": "execute_result"
    }
   ],
   "source": [
    "clf = DecisionTreeClassifier(random_state=1)\n",
    "clf.fit(X_train, y_train)"
   ]
  },
  {
   "cell_type": "code",
   "execution_count": 27,
   "id": "366512df",
   "metadata": {},
   "outputs": [],
   "source": [
    "def test_model(model):\n",
    "    print(\"mean_absolute_error:\",\n",
    "          mean_absolute_error(y_test, model.predict(X_test)))\n",
    "    print(\"median_absolute_error:\",\n",
    "          median_absolute_error(y_test, model.predict(X_test)))\n",
    "    print(\"r2_score:\",\n",
    "          r2_score(y_test, model.predict(X_test)))"
   ]
  },
  {
   "cell_type": "code",
   "execution_count": 28,
   "id": "1e43b2f4",
   "metadata": {},
   "outputs": [
    {
     "name": "stdout",
     "output_type": "stream",
     "text": [
      "mean_absolute_error: 5.930783554878049\n",
      "median_absolute_error: 5.232236458940011\n",
      "r2_score: 0.7370050602279796\n"
     ]
    }
   ],
   "source": [
    "test_model(dt_none)"
   ]
  },
  {
   "cell_type": "code",
   "execution_count": 29,
   "id": "39cbf0e0",
   "metadata": {},
   "outputs": [
    {
     "data": {
      "text/html": [
       "<pre>|--- CGPA <= 8.85\n",
       "|   |--- CGPA <= 8.03\n",
       "|   |   |--- GRE Score <= 307.50\n",
       "|   |   |   |--- value: [13.09]\n",
       "|   |   |--- GRE Score >  307.50\n",
       "|   |   |   |--- value: [23.90]\n",
       "|   |--- CGPA >  8.03\n",
       "|   |   |--- CGPA <= 8.63\n",
       "|   |   |   |--- value: [28.62]\n",
       "|   |   |--- CGPA >  8.63\n",
       "|   |   |   |--- value: [35.28]\n",
       "|--- CGPA >  8.85\n",
       "|   |--- CGPA <= 9.22\n",
       "|   |   |--- SOP <= 3.75\n",
       "|   |   |   |--- value: [38.37]\n",
       "|   |   |--- SOP >  3.75\n",
       "|   |   |   |--- value: [45.85]\n",
       "|   |--- CGPA >  9.22\n",
       "|   |   |--- CGPA <= 9.47\n",
       "|   |   |   |--- value: [53.03]\n",
       "|   |   |--- CGPA >  9.47\n",
       "|   |   |   |--- value: [56.52]\n",
       "</pre>"
      ],
      "text/plain": [
       "<IPython.core.display.HTML object>"
      ]
     },
     "execution_count": 29,
     "metadata": {},
     "output_type": "execute_result"
    }
   ],
   "source": [
    "tree_rules = export_text(dt_none, feature_names=list(X.columns))\n",
    "HTML('<pre>' + tree_rules + '</pre>')"
   ]
  },
  {
   "cell_type": "code",
   "execution_count": 30,
   "id": "35b04435",
   "metadata": {},
   "outputs": [],
   "source": [
    "\n",
    "def draw_feature_importances(tree_model, X_dataset, figsize=(18,5)):\n",
    "    \"\"\"\n",
    "    Вывод важности признаков в виде графика\n",
    "    \"\"\"\n",
    "    # Сортировка значений важности признаков по убыванию\n",
    "    list_to_sort = list(zip(X_dataset.columns.values, tree_model.feature_importances_))\n",
    "    sorted_list = sorted(list_to_sort, key=itemgetter(1), reverse = True)\n",
    "    # Названия признаков\n",
    "    labels = [x for x,_ in sorted_list]\n",
    "    # Важности признаков\n",
    "    data = [x for _,x in sorted_list]\n",
    "    # Вывод графика\n",
    "    fig, ax = plt.subplots(figsize=figsize)\n",
    "    ind = np.arange(len(labels))\n",
    "    plt.bar(ind, data)\n",
    "    plt.xticks(ind, labels, rotation='vertical')\n",
    "    # Вывод значений\n",
    "    for a,b in zip(ind, data):\n",
    "        plt.text(a-0.05, b+0.01, str(round(b,3)))\n",
    "    plt.show()\n",
    "    return labels, data"
   ]
  },
  {
   "cell_type": "code",
   "execution_count": 31,
   "id": "18ebd6a8",
   "metadata": {},
   "outputs": [
    {
     "data": {
      "image/png": "[encoded data removed]",
      "text/plain": [
       "<Figure size 1800x500 with 1 Axes>"
      ]
     },
     "metadata": {},
     "output_type": "display_data"
    }
   ],
   "source": [
    "dt_fl, dt_fd = draw_feature_importances(clf, X_train)"
   ]
  },
  {
   "cell_type": "markdown",
   "id": "a9b29d72",
   "metadata": {},
   "source": [
    "### Произведите для каждой модели подбор одного гиперпараметра с использованием GridSearchCV и кросс-валидации."
   ]
  },
  {
   "cell_type": "code",
   "execution_count": 32,
   "id": "3429a7f8",
   "metadata": {
    "scrolled": true
   },
   "outputs": [
    {
     "name": "stdout",
     "output_type": "stream",
     "text": [
      "Наилучшие параметры: {'normalize': True}\n",
      "Оценка точности на кросс-валидации: 0.78\n",
      "0.8340510535120713\n"
     ]
    }
   ],
   "source": [
    "model = LinearRegression()\n",
    "\n",
    "param_grid = {'normalize': [True, False]}\n",
    "\n",
    "grid_search = GridSearchCV(model, param_grid, cv=5)\n",
    "\n",
    "grid_search.fit(X, y)\n",
    "\n",
    "best_params = grid_search.best_params_\n",
    "\n",
    "cv_score = cross_val_score(grid_search.best_estimator_, X, y, cv=5).mean()\n",
    "\n",
    "y_pred = grid_search.best_estimator_.predict(X_test)\n",
    "\n",
    "accuracy_LinearRegression = grid_search.best_estimator_.score(X_test,y_test)\n",
    "\n",
    "print(\"Наилучшие параметры: {}\".format(grid_search.best_params_))\n",
    "print(\"Оценка точности на кросс-валидации: {:.2f}\".format(grid_search.best_score_))\n",
    "print(accuracy_LinearRegression)"
   ]
  },
  {
   "cell_type": "code",
   "execution_count": 33,
   "id": "45d61d07",
   "metadata": {},
   "outputs": [
    {
     "name": "stdout",
     "output_type": "stream",
     "text": [
      "Наилучшие параметры: {'C': 1, 'kernel': 'linear'}\n",
      "Оценка точности на кросс-валидации: 0.12\n",
      "0.075\n"
     ]
    }
   ],
   "source": [
    "svc = SVC()\n",
    "\n",
    "param_grid = {'C': [0.1, 1, 10], 'kernel': ['linear', 'rbf']}\n",
    "\n",
    "grid_search = GridSearchCV(svc, param_grid, cv=5)\n",
    "\n",
    "grid_search.fit(X_train, y_train)\n",
    "\n",
    "accuracy_svc = grid_search.best_estimator_.score(X_test,y_test)\n",
    "\n",
    "print(\"Наилучшие параметры: {}\".format(grid_search.best_params_))\n",
    "print(\"Оценка точности на кросс-валидации: {:.2f}\".format(grid_search.best_score_))\n",
    "print(accuracy_svc)\n"
   ]
  },
  {
   "cell_type": "code",
   "execution_count": 34,
   "id": "ea319ecc",
   "metadata": {},
   "outputs": [
    {
     "name": "stdout",
     "output_type": "stream",
     "text": [
      "Наилучшие параметры: {}  {'max_depth': 6, 'min_samples_leaf': 3, 'min_samples_split': 6}\n",
      "Оценка точности на кросс-валидации: 0.11\n",
      "0.0875\n"
     ]
    }
   ],
   "source": [
    "tree = DecisionTreeClassifier()\n",
    "\n",
    "param_grid = {'max_depth': [2, 4, 6, 8, 10],\n",
    "              'min_samples_split': [2, 4, 6, 8, 10],\n",
    "              'min_samples_leaf': [1, 2, 3, 4, 5]}\n",
    "\n",
    "grid_search = GridSearchCV(tree, param_grid=param_grid, cv=5)\n",
    "\n",
    "grid_search.fit(X_train, y_train)\n",
    "\n",
    "accuracy_tree = grid_search.best_estimator_.score(X_test,y_test)\n",
    "\n",
    "print(\"Наилучшие параметры: {} \", grid_search.best_params_)\n",
    "print(\"Оценка точности на кросс-валидации: {:.2f}\".format(grid_search.best_score_))\n",
    "print(accuracy_tree)"
   ]
  },
  {
   "cell_type": "markdown",
   "id": "339d13e5",
   "metadata": {},
   "source": [
    "### Сравните качество полученных моделей с качеством моделей"
   ]
  },
  {
   "cell_type": "code",
   "execution_count": 35,
   "id": "aaa70383",
   "metadata": {},
   "outputs": [],
   "source": [
    "models = [['DecisionTree :',DecisionTreeRegressor()],\n",
    "          ['Linear Regression :', LinearRegression()],\n",
    "          ['SVC :', SVC()]]\n"
   ]
  },
  {
   "cell_type": "code",
   "execution_count": 36,
   "id": "f5f82db1",
   "metadata": {},
   "outputs": [
    {
     "name": "stdout",
     "output_type": "stream",
     "text": [
      "Вывод 1\n",
      "DecisionTree : 9.538736813645714\n",
      "Linear Regression : 6.252859728579759\n",
      "SVC : 16.042911207134445\n"
     ]
    }
   ],
   "source": [
    "print('Вывод 1')\n",
    "for name,model in models:\n",
    "    model = model\n",
    "    model.fit(X_train, y_train)\n",
    "    predictions = model.predict(X_test)\n",
    "    print(name, (np.sqrt(mean_squared_error(y_test, predictions))))"
   ]
  },
  {
   "cell_type": "code",
   "execution_count": 37,
   "id": "cfa2bdc3",
   "metadata": {},
   "outputs": [],
   "source": [
    "models = [['DecisionTree :',DecisionTreeRegressor(max_depth = 6, min_samples_leaf = 3, min_samples_split = 2)],\n",
    "          ['Linear Regression :', LinearRegression(normalize = True)],\n",
    "          ['SVC :', SVC(C = 1, kernel = 'linear')]]\n"
   ]
  },
  {
   "cell_type": "code",
   "execution_count": 38,
   "id": "3060dac1",
   "metadata": {},
   "outputs": [
    {
     "name": "stdout",
     "output_type": "stream",
     "text": [
      "Вывод 2\n",
      "DecisionTree : 7.718895862285397\n",
      "Linear Regression : 6.252859728579746\n",
      "SVC : 7.565546906866681\n"
     ]
    }
   ],
   "source": [
    "print('Вывод 2')\n",
    "for name,model in models:\n",
    "    model = model\n",
    "    model.fit(X_train, y_train)\n",
    "    predictions = model.predict(X_test)\n",
    "    print(name, (np.sqrt(mean_squared_error(y_test, predictions))))"
   ]
  },
  {
   "cell_type": "markdown",
   "id": "85b9ddec",
   "metadata": {},
   "source": [
    "Сравнение выводов:\n",
    "- Оба вывода содержат результаты трех разных моделей машинного обучения: DecisionTree, Linear Regression и SVC.\n",
    "* Вывод 1 показывает, что DecisionTree имеет наихудший результат (9.39), в то время как Linear Regression имеет наилучший результат (6.25). SVC имеет средний результат (16.04).\n",
    "* Вывод 2 показывает, что DecisionTree имеет лучший результат (7.72), в то время как Linear Regression остается наилучшим (6.25). SVC также имеет хороший результат (7.57).\n",
    "\n",
    "- **Вывод 2 показывает более высокую точность моделей, чем вывод 1.**"
   ]
  },
  {
   "cell_type": "markdown",
   "id": "0d7a8d7d",
   "metadata": {},
   "source": [
    "### Виды ансамблевых методов\n",
    "\n",
    "1) Бэггинг. В этом случае однородные модели обучают на разных наборах данных и объединяют. Получают прогноз путём усреднения. Если использовать в качестве слабого ученика деревья решений, то получится случайный лес RandomForestClassifier / RandomForestRegressor.\n",
    "\n",
    "2) Бустинг. При использовании данного метода несколько однородных моделей последовательно обучаются, исправляя ошибки друг друга."
   ]
  },
  {
   "cell_type": "code",
   "execution_count": 39,
   "id": "50160a89",
   "metadata": {},
   "outputs": [],
   "source": [
    "from sklearn.ensemble import RandomForestClassifier, GradientBoostingClassifier, RandomForestClassifier\n",
    "from sklearn.linear_model import LogisticRegression\n",
    "from sklearn.model_selection import cross_val_predict\n",
    "from sklearn.ensemble import RandomForestClassifier\n",
    "from sklearn.ensemble import GradientBoostingClassifier"
   ]
  },
  {
   "cell_type": "markdown",
   "id": "705d6d10",
   "metadata": {},
   "source": [
    "#### Модель бэггинга - случайный лес (Random Forest):"
   ]
  },
  {
   "cell_type": "code",
   "execution_count": 50,
   "id": "4d7a8124",
   "metadata": {},
   "outputs": [
    {
     "name": "stdout",
     "output_type": "stream",
     "text": [
      "Accuracy: 10.00%\n"
     ]
    }
   ],
   "source": [
    "# Создаем модель случайного леса с 100 деревьями\n",
    "rf_model = RandomForestClassifier(n_estimators=100)\n",
    "\n",
    "# Обучаем модель на тренировочных данных\n",
    "rf_model.fit(X_train, y_train)\n",
    "\n",
    "# Оцениваем качество модели на тестовых данных\n",
    "accuracy = rf_model.score(X_test, y_test)\n",
    "print('Accuracy: {:.2f}%'.format(accuracy*100))\n"
   ]
  },
  {
   "cell_type": "markdown",
   "id": "0a02461e",
   "metadata": {},
   "source": [
    "#### Модель бустинга - градиентный бустинг (Gradient Boosting):"
   ]
  },
  {
   "cell_type": "code",
   "execution_count": 49,
   "id": "37843c96",
   "metadata": {},
   "outputs": [
    {
     "name": "stdout",
     "output_type": "stream",
     "text": [
      "Accuracy: 11.25%\n"
     ]
    }
   ],
   "source": [
    "\n",
    "# Создаем модель градиентного бустинга с 100 деревьями и скоростью обучения 0.1\n",
    "gb_model = GradientBoostingClassifier(n_estimators=100, learning_rate=0.1)\n",
    "\n",
    "# Обучаем модель на тренировочных данных\n",
    "gb_model.fit(X_train, y_train)\n",
    "\n",
    "# Оцениваем качество модели на тестовых данных\n",
    "accuracy = gb_model.score(X_test, y_test)\n",
    "print('Accuracy: {:.2f}%'.format(accuracy*100))\n",
    "\n"
   ]
  },
  {
   "cell_type": "markdown",
   "id": "09d8d74d",
   "metadata": {},
   "source": [
    "#### Модель стекинга"
   ]
  },
  {
   "cell_type": "code",
   "execution_count": 51,
   "id": "946497db",
   "metadata": {},
   "outputs": [
    {
     "name": "stdout",
     "output_type": "stream",
     "text": [
      "Accuracy: 25.00%\n"
     ]
    }
   ],
   "source": [
    "# Создаем базовые модели\n",
    "rf = RandomForestClassifier(n_estimators=100)\n",
    "lr = LogisticRegression()\n",
    "svm = SVC(kernel='linear')\n",
    "\n",
    "# Обучаем базовые модели\n",
    "rf.fit(X_train, y_train)\n",
    "lr.fit(X_train, y_train)\n",
    "svm.fit(X_train, y_train)\n",
    "\n",
    "# Получаем предсказания базовых моделей на тестовой выборке\n",
    "rf_pred = rf.predict(X_test)\n",
    "lr_pred = lr.predict(X_test)\n",
    "svm_pred = svm.predict(X_test)\n",
    "\n",
    "# Создаем мета-модель и обучаем ее на предсказаниях базовых моделей\n",
    "meta_model = LogisticRegression()\n",
    "meta_model.fit(np.array([rf_pred, lr_pred, svm_pred]).T, y_test)\n",
    "\n",
    "# Получаем предсказания стекинга на тестовой выборке\n",
    "stacking_pred = meta_model.predict(np.array([rf.predict(X_test), lr.predict(X_test), svm.predict(X_test)]).T)\n",
    "\n",
    "# Оцениваем качество стекинга\n",
    "accuracy = accuracy_score(y_test, stacking_pred)\n",
    "print('Accuracy: {:.2f}%'.format(accuracy*100))"
   ]
  },
  {
   "cell_type": "markdown",
   "id": "551167dc",
   "metadata": {},
   "source": [
    "### Произведите для каждой модели подбор значений одного гиперпараметра. В зависимости от используемой библиотеки можно применять функцию GridSearchCV, использовать перебор параметров в цикле, или использовать другие методы."
   ]
  },
  {
   "cell_type": "code",
   "execution_count": 43,
   "id": "744f2a36",
   "metadata": {},
   "outputs": [
    {
     "name": "stdout",
     "output_type": "stream",
     "text": [
      "Наилучшие параметры: {}  {'max_features': 'log2', 'n_estimators': 200}\n",
      "Оценка точности на кросс-валидации: 0.12\n",
      "0.0875\n"
     ]
    }
   ],
   "source": [
    "model = RandomForestClassifier()\n",
    "\n",
    "param_grid = {\n",
    "    'n_estimators': [200, 700],\n",
    "    'max_features': ['auto', 'sqrt', 'log2']\n",
    "}\n",
    "\n",
    "grid_search = GridSearchCV(model, param_grid=param_grid, cv=5)\n",
    "\n",
    "grid_search.fit(X_train, y_train)\n",
    "\n",
    "accuracy_RandomForestClassifier = grid_search.best_estimator_.score(X_test,y_test)\n",
    "\n",
    "print(\"Наилучшие параметры: {} \", grid_search.best_params_)\n",
    "print(\"Оценка точности на кросс-валидации: {:.2f}\".format(grid_search.best_score_))\n",
    "print(accuracy_tree)"
   ]
  },
  {
   "cell_type": "code",
   "execution_count": 44,
   "id": "e9cb4ee2",
   "metadata": {},
   "outputs": [
    {
     "name": "stdout",
     "output_type": "stream",
     "text": [
      "Наилучшие параметры: {}  {'n_estimators': 50}\n",
      "Оценка точности на кросс-валидации: 0.10\n",
      "0.1125\n"
     ]
    }
   ],
   "source": [
    "model = GradientBoostingClassifier()\n",
    "\n",
    "param_grid = {\n",
    "    'n_estimators': [50, 100, 150, 200, 250]\n",
    "}\n",
    "\n",
    "grid_search = GridSearchCV(model, param_grid=param_grid, cv=5)\n",
    "\n",
    "grid_search.fit(X_train, y_train)\n",
    "\n",
    "accuracy_GradientBoostingClassifier = grid_search.best_estimator_.score(X_test,y_test)\n",
    "\n",
    "print(\"Наилучшие параметры: {} \", grid_search.best_params_)\n",
    "print(\"Оценка точности на кросс-валидации: {:.2f}\".format(grid_search.best_score_))\n",
    "print(accuracy_GradientBoostingClassifier)"
   ]
  },
  {
   "cell_type": "markdown",
   "id": "4998fb9e",
   "metadata": {},
   "source": [
    "### Повторите пункт 4 для найденных оптимальных значений гиперпараметров. Сравните качество полученных моделей с качеством моделей, полученных в пункте 4."
   ]
  },
  {
   "cell_type": "code",
   "execution_count": 45,
   "id": "0275e530",
   "metadata": {},
   "outputs": [],
   "source": [
    "models = [\n",
    "           ['RandomForestClassifier :',RandomForestClassifier()],\n",
    "           ['GradientBoostingClassifier: ', GradientBoostingClassifier()],\n",
    "          ]"
   ]
  },
  {
   "cell_type": "code",
   "execution_count": 46,
   "id": "60aefaf4",
   "metadata": {},
   "outputs": [
    {
     "name": "stdout",
     "output_type": "stream",
     "text": [
      "RandomForestClassifier : 7.3671568464367585\n",
      "GradientBoostingClassifier:  7.2336021455427035\n"
     ]
    }
   ],
   "source": [
    "for name,model in models:\n",
    "    model = model\n",
    "    model.fit(X_train, y_train)\n",
    "    predictions = model.predict(X_test)\n",
    "    print(name, (np.sqrt(mean_squared_error(y_test, predictions))))"
   ]
  },
  {
   "cell_type": "code",
   "execution_count": 47,
   "id": "182f8e2b",
   "metadata": {},
   "outputs": [],
   "source": [
    "models = [['RandomForestClassifier :',RandomForestClassifier(max_features =  'auto', n_estimators = 200)],\n",
    "          ['GradientBoostingClassifier: ', GradientBoostingClassifier(n_estimators = 50)],\n",
    "         ]"
   ]
  },
  {
   "cell_type": "code",
   "execution_count": 48,
   "id": "2c40e466",
   "metadata": {},
   "outputs": [
    {
     "name": "stdout",
     "output_type": "stream",
     "text": [
      "RandomForestClassifier : 7.610026281163555\n",
      "GradientBoostingClassifier:  7.225821752575966\n"
     ]
    }
   ],
   "source": [
    "for name,model in models:\n",
    "    model = model\n",
    "    model.fit(X_train, y_train)\n",
    "    predictions = model.predict(X_test)\n",
    "    print(name, (np.sqrt(mean_squared_error(y_test, predictions))))"
   ]
  },
  {
   "cell_type": "markdown",
   "id": "12ba7ad6",
   "metadata": {},
   "source": [
    "Вывод 1 показывает, что RandomForestClassifier имеет более высокую оценку (7.30), чем GradientBoostingClassifier (7.02). \n",
    "\n",
    "Вывод 2 же указывает на обратную ситуацию: RandomForestClassifier имеет более низкую оценку (7.57), чем GradientBoostingClassifier (6.88).\n"
   ]
  }
 ],
 "metadata": {
  "kernelspec": {
   "display_name": "Python 3 (ipykernel)",
   "language": "python",
   "name": "python3"
  },
  "language_info": {
   "codemirror_mode": {
    "name": "ipython",
    "version": 3
   },
   "file_extension": ".py",
   "mimetype": "text/x-python",
   "name": "python",
   "nbconvert_exporter": "python",
   "pygments_lexer": "ipython3",
   "version": "3.9.13"
  }
 },
 "nbformat": 4,
 "nbformat_minor": 5
}
